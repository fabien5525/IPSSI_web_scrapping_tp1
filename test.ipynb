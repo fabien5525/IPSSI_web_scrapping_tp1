{
 "cells": [
  {
   "cell_type": "code",
   "execution_count": null,
   "metadata": {},
   "outputs": [],
   "source": [
    "from selenium import webdriver\n",
    "from urllib.parse import quote\n",
    "\n",
    "url = 'https://www.ldlc.com/recherche/'\n",
    "search = 'téléphone'\n",
    "\n",
    "driver = webdriver.Chrome()\n",
    "driver.get(url + quote(search))"
   ]
  },
  {
   "cell_type": "code",
   "execution_count": null,
   "metadata": {},
   "outputs": [],
   "source": [
    "from selenium.webdriver.common.by import By\n",
    "\n",
    "# get all li in div.listing-product and that are not in ul.pagination\n",
    "products = driver.find_elements(By.XPATH, '//div[@class=\"listing-product\"]/ul/li[not(ancestor::ul[@class=\"pagination\"])]')\n",
    "print(len(products))"
   ]
  },
  {
   "cell_type": "code",
   "execution_count": null,
   "metadata": {},
   "outputs": [],
   "source": [
    "# nom, image, lien, prix, note\n",
    "\n",
    "data = {}\n",
    "\n",
    "for product in products:\n",
    "\n",
    "    id = product.get_attribute('data-id')\n",
    "\n",
    "    aTag = product.find_element(By.XPATH, './/div[@class=\"pdt-desc\"]/h3/a')\n",
    "    name = aTag.text\n",
    "    print(name)\n",
    "\n",
    "    imageTag = product.find_element(By.XPATH, './/div[@class=\"pic\"]/a/img')\n",
    "    image = imageTag.get_attribute('src')\n",
    "\n",
    "    link = aTag.get_attribute('href')\n",
    "\n",
    "    try : \n",
    "        priceTag = product.find_element(By.XPATH, './/div[@class=\"price\"]/div[@class=\"price\"]')\n",
    "    except:\n",
    "        priceTag = product.find_element(By.XPATH, './/div[@class=\"price\"]/div[@class=\"new-price\"]')\n",
    "    \n",
    "    priceInteger = priceTag.text.replace(' ', '').replace('&nbsp;', '').split('€')[0]\n",
    "    priceDecimals = priceTag.find_element(By.XPATH, './/sup').text\n",
    "    price = float(priceInteger + '.' + priceDecimals)\n",
    "\n",
    "    note = None\n",
    "    try:\n",
    "        noteTag = product.find_element(By.XPATH, './/span[contains(@class, \"star-\")]')\n",
    "        note = int(noteTag.get_attribute('class').split('-')[-1]) / 2\n",
    "    except:\n",
    "        pass\n",
    "\n",
    "    data[id] = {\n",
    "        'name': name,\n",
    "        'image': image,\n",
    "        'link': link,\n",
    "        'price': price,\n",
    "        'note': note\n",
    "    }"
   ]
  },
  {
   "cell_type": "code",
   "execution_count": null,
   "metadata": {},
   "outputs": [],
   "source": [
    "import pandas as pd\n",
    "\n",
    "df = pd.DataFrame(data).T\n",
    "df.head()"
   ]
  },
  {
   "cell_type": "code",
   "execution_count": 3,
   "metadata": {},
   "outputs": [
    {
     "name": "stdout",
     "output_type": "stream",
     "text": [
      "13/12/2023 12:17\n"
     ]
    }
   ],
   "source": [
    "import datetime\n",
    "datetimeFormatted = datetime.datetime.now().strftime(\"%d/%m/%Y %H:%M\")\n",
    "print(datetimeFormatted)"
   ]
  }
 ],
 "metadata": {
  "kernelspec": {
   "display_name": ".venv",
   "language": "python",
   "name": "python3"
  },
  "language_info": {
   "codemirror_mode": {
    "name": "ipython",
    "version": 3
   },
   "file_extension": ".py",
   "mimetype": "text/x-python",
   "name": "python",
   "nbconvert_exporter": "python",
   "pygments_lexer": "ipython3",
   "version": "3.11.0"
  }
 },
 "nbformat": 4,
 "nbformat_minor": 2
}

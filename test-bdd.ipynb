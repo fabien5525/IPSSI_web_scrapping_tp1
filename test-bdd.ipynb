{
 "cells": [
  {
   "cell_type": "code",
   "execution_count": 6,
   "metadata": {},
   "outputs": [
    {
     "name": "stdout",
     "output_type": "stream",
     "text": [
      "     image  link  name note price\n",
      "test  test  test  test    5     5\n",
      "2023-12-12 17:10:58,139 INFO sqlalchemy.engine.Engine BEGIN (implicit)\n",
      "2023-12-12 17:10:58,139 INFO sqlalchemy.engine.Engine PRAGMA main.table_info(\"article\")\n",
      "2023-12-12 17:10:58,140 INFO sqlalchemy.engine.Engine [raw sql] ()\n",
      "2023-12-12 17:10:58,141 INFO sqlalchemy.engine.Engine COMMIT\n",
      "2023-12-12 17:10:58,142 INFO sqlalchemy.engine.Engine BEGIN (implicit)\n",
      "2023-12-12 17:10:58,143 INFO sqlalchemy.engine.Engine INSERT INTO article (id_ldlc, name, image_link, link, price, note, id) VALUES (?, ?, ?, ?, ?, ?, ?)\n",
      "2023-12-12 17:10:58,143 INFO sqlalchemy.engine.Engine [generated in 0.00036s] ('test', 'test', 'test', 'test', 5.0, 5.0, '42bda9cc29d54352a84b2a9ff287e386')\n",
      "2023-12-12 17:10:58,144 INFO sqlalchemy.engine.Engine COMMIT\n"
     ]
    }
   ],
   "source": [
    "import pandas as pd\n",
    "from function import save_ldlc_data_to_db\n",
    "\n",
    "data = {}\n",
    "data['test'] =  {\n",
    "    'name': 'test',\n",
    "    'image': 'test',\n",
    "    'link': 'test',\n",
    "    'price': 5,\n",
    "    'note': 5\n",
    "}\n",
    "\n",
    "\n",
    "df = pd.DataFrame(data).T\n",
    "print(df.head())\n",
    "\n",
    "save_ldlc_data_to_db(df) # working fine"
   ]
  }
 ],
 "metadata": {
  "kernelspec": {
   "display_name": ".venv",
   "language": "python",
   "name": "python3"
  },
  "language_info": {
   "codemirror_mode": {
    "name": "ipython",
    "version": 3
   },
   "file_extension": ".py",
   "mimetype": "text/x-python",
   "name": "python",
   "nbconvert_exporter": "python",
   "pygments_lexer": "ipython3",
   "version": "3.11.0"
  }
 },
 "nbformat": 4,
 "nbformat_minor": 2
}
